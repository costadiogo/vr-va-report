{
 "cells": [
  {
   "cell_type": "code",
   "execution_count": 1,
   "id": "4706c37c",
   "metadata": {},
   "outputs": [],
   "source": [
    "import pandas as pd"
   ]
  },
  {
   "cell_type": "markdown",
   "id": "e02ce64f",
   "metadata": {},
   "source": [
    "ao clicar em válidar com IA me retornou essa mensagem:\n",
    "\n",
    "• Erro ao processar coluna 'matricula' - verifique se os dados estão no formato correto\n",
    "\n",
    "A IA não poderia identificar os errosmostralos e já corrigir os erros encontrado nos arquivos antes de gerar os relatórios, seria uma maneira mais inteligente de utilizar o llm nesse caso não seria?"
   ]
  }
 ],
 "metadata": {
  "kernelspec": {
   "display_name": "base",
   "language": "python",
   "name": "python3"
  },
  "language_info": {
   "codemirror_mode": {
    "name": "ipython",
    "version": 3
   },
   "file_extension": ".py",
   "mimetype": "text/x-python",
   "name": "python",
   "nbconvert_exporter": "python",
   "pygments_lexer": "ipython3",
   "version": "3.12.3"
  }
 },
 "nbformat": 4,
 "nbformat_minor": 5
}
